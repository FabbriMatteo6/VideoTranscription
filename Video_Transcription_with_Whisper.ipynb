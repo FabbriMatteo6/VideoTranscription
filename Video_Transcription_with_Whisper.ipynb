{
  "cells": [
    {
      "cell_type": "markdown",
      "metadata": {
        "id": "view-in-github",
        "colab_type": "text"
      },
      "source": [
        "<a href=\"https://colab.research.google.com/github/FabbriMatteo6/VideoTranscription/blob/main/Video_Transcription_with_Whisper.ipynb\" target=\"_parent\"><img src=\"https://colab.research.google.com/assets/colab-badge.svg\" alt=\"Open In Colab\"/></a>"
      ]
    },
    {
      "cell_type": "markdown",
      "metadata": {
        "id": "pufsxqHj9M3u"
      },
      "source": [
        "Step 1: Setup and Install Libraries\n",
        "\n",
        "This first cell will install the required Python libraries. It also runs a command to prove that ffmpeg is already available in the Colab environment."
      ]
    },
    {
      "cell_type": "code",
      "execution_count": null,
      "metadata": {
        "id": "Kl1SX-hp8_GD"
      },
      "outputs": [],
      "source": [
        "# Install the required libraries quietly\n",
        "!pip install -q moviepy openai-whisper\n",
        "\n",
        "# Verify that ffmpeg is installed and available\n",
        "!ffmpeg -version\n",
        "\n",
        "print(\"\\n✅ Libraries installed and ffmpeg is available.\")"
      ]
    },
    {
      "cell_type": "markdown",
      "metadata": {
        "id": "Rs9DmuLm9Xnw"
      },
      "source": [
        "Step 2: Upload Your Video File\n",
        "\n",
        "Run this cell. It will display a \"Choose Files\" button. Click it and select the video file from your computer that you want to transcribe.\n",
        "\n",
        "Wait for the upload to complete (it will show \"100% done\") before moving to the next step."
      ]
    },
    {
      "cell_type": "code",
      "execution_count": null,
      "metadata": {
        "id": "ZfWTMubK9b2G"
      },
      "outputs": [],
      "source": [
        "from google.colab import files\n",
        "import os\n",
        "\n",
        "# Prompt the user to upload a file\n",
        "uploaded = files.upload()\n",
        "\n",
        "# Get the name of the uploaded file and print it\n",
        "if uploaded:\n",
        "    input_video_file = next(iter(uploaded))\n",
        "    print(f\"\\n✅ Successfully uploaded file: '{input_video_file}'\")\n",
        "else:\n",
        "    print(\"\\n⚠️ No file was uploaded.\")"
      ]
    },
    {
      "cell_type": "markdown",
      "metadata": {
        "id": "DHCKlwTl9gmg"
      },
      "source": [
        "Step 3: Define the Processing Functions\n",
        "\n",
        "This cell contains the core Python functions that will handle the audio extraction and transcription. You just need to run this cell once to make the functions available for the next step."
      ]
    },
    {
      "cell_type": "code",
      "execution_count": null,
      "metadata": {
        "id": "eWPyIT4q9hsR"
      },
      "outputs": [],
      "source": [
        "import whisper\n",
        "from moviepy.video.io.VideoFileClip import VideoFileClip\n",
        "\n",
        "def extract_audio(video_path):\n",
        "    \"\"\"Extracts audio from a video and saves it as an MP3.\"\"\"\n",
        "    audio_path = None\n",
        "    try:\n",
        "        print(f\"Extracting audio from '{video_path}'...\")\n",
        "        video_clip = VideoFileClip(video_path)\n",
        "\n",
        "        # Create a path for the output audio file\n",
        "        base_name = os.path.splitext(video_path)[0]\n",
        "        audio_path = f\"{base_name}.mp3\"\n",
        "\n",
        "        # Write the audio file\n",
        "        video_clip.audio.write_audiofile(audio_path, codec='mp3', logger=None)\n",
        "        video_clip.close()\n",
        "        print(f\"✅ Audio successfully extracted to '{audio_path}'\")\n",
        "        return audio_path\n",
        "    except Exception as e:\n",
        "        print(f\"❌ An error occurred during audio extraction: {e}\")\n",
        "        return None\n",
        "\n",
        "def transcribe_audio(audio_path):\n",
        "    \"\"\"Transcribes an audio file using Whisper.\"\"\"\n",
        "    if not audio_path:\n",
        "        return None\n",
        "\n",
        "    try:\n",
        "        print(\"Loading the Whisper 'large-v3-turbo' model...\")\n",
        "        model = whisper.load_model(\"large-v3-turbo\")\n",
        "\n",
        "        print(f\"Transcribing '{audio_path}'... (this may take a while)\")\n",
        "        result = model.transcribe(audio_path)\n",
        "        print(\"✅ Transcription complete.\")\n",
        "        return result[\"text\"]\n",
        "    except Exception as e:\n",
        "        print(f\"❌ An error occurred during transcription: {e}\")\n",
        "        return None"
      ]
    },
    {
      "cell_type": "markdown",
      "metadata": {
        "id": "1OgeuvMz9kzc"
      },
      "source": [
        "Step 4: Run the Full Process\n",
        "\n",
        "This cell executes the entire workflow. It will call the functions defined above to extract the audio, transcribe it, and save the result to a text file. It will also clean up the temporary audio file."
      ]
    },
    {
      "cell_type": "code",
      "execution_count": null,
      "metadata": {
        "id": "5CcJ1WDL9l0D"
      },
      "outputs": [],
      "source": [
        "audio_file_path = None\n",
        "text_file_path = None\n",
        "\n",
        "try:\n",
        "    if 'input_video_file' in locals() and input_video_file:\n",
        "        # Step 1: Extract audio\n",
        "        audio_file_path = extract_audio(input_video_file)\n",
        "\n",
        "        # Step 2: Transcribe the audio\n",
        "        transcribed_text = transcribe_audio(audio_file_path)\n",
        "\n",
        "        if transcribed_text:\n",
        "            # Step 3: Save the transcription to a text file\n",
        "            base_name = os.path.splitext(input_video_file)[0]\n",
        "            text_file_path = f\"{base_name}.txt\"\n",
        "            with open(text_file_path, 'w', encoding='utf-8') as f:\n",
        "                f.write(transcribed_text)\n",
        "            print(f\"\\n✅ Success! Transcription saved to '{text_file_path}'\")\n",
        "        else:\n",
        "            print(\"\\n⚠️ Could not generate transcription.\")\n",
        "    else:\n",
        "        print(\"\\n⚠️ Please go back to Step 2 and upload a video file first.\")\n",
        "\n",
        "finally:\n",
        "    # Step 4: Clean up the temporary audio file\n",
        "    if audio_file_path and os.path.exists(audio_file_path):\n",
        "        print(f\"Cleaning up temporary file: '{audio_file_path}'...\")\n",
        "        os.remove(audio_file_path)"
      ]
    },
    {
      "cell_type": "markdown",
      "metadata": {
        "id": "n-Rr3DJh9per"
      },
      "source": [
        "Step 5: Download the Transcription File\n",
        "\n",
        "Run this final cell. Your browser will automatically start downloading the .txt file containing your video's transcription."
      ]
    },
    {
      "cell_type": "code",
      "execution_count": null,
      "metadata": {
        "id": "K_xiV7pA9qNA"
      },
      "outputs": [],
      "source": [
        "if 'text_file_path' in locals() and text_file_path and os.path.exists(text_file_path):\n",
        "    print(f\"Downloading '{text_file_path}'...\")\n",
        "    files.download(text_file_path)\n",
        "else:\n",
        "    print(\"⚠️ No transcription file to download. Please ensure Step 4 completed successfully.\")"
      ]
    }
  ],
  "metadata": {
    "accelerator": "GPU",
    "colab": {
      "gpuType": "T4",
      "provenance": [],
      "authorship_tag": "ABX9TyOg4lCihP0Fr62cUYBhtS6C",
      "include_colab_link": true
    },
    "kernelspec": {
      "display_name": "Python 3",
      "name": "python3"
    },
    "language_info": {
      "name": "python"
    }
  },
  "nbformat": 4,
  "nbformat_minor": 0
}